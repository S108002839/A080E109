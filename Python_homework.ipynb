{
  "nbformat": 4,
  "nbformat_minor": 0,
  "metadata": {
    "colab": {
      "name": "Python homework.ipynb",
      "provenance": [],
      "include_colab_link": true
    },
    "kernelspec": {
      "name": "python3",
      "display_name": "Python 3"
    }
  },
  "cells": [
    {
      "cell_type": "markdown",
      "metadata": {
        "id": "view-in-github",
        "colab_type": "text"
      },
      "source": [
        "<a href=\"https://colab.research.google.com/github/S108002839/A080E109/blob/master/Python_homework.ipynb\" target=\"_parent\"><img src=\"https://colab.research.google.com/assets/colab-badge.svg\" alt=\"Open In Colab\"/></a>"
      ]
    },
    {
      "cell_type": "markdown",
      "metadata": {
        "id": "WcsXIEMKZrYd",
        "colab_type": "text"
      },
      "source": [
        "# 聖誕樹"
      ]
    },
    {
      "cell_type": "code",
      "metadata": {
        "id": "NiBkaX2aZVTH",
        "colab_type": "code",
        "colab": {
          "base_uri": "https://localhost:8080/",
          "height": 191
        },
        "outputId": "68a0624c-9c2b-464d-c6dd-e61eae07444e"
      },
      "source": [
        "q= input(\"a\")\n",
        "w= input(\"b\")\n",
        "e= input(\"c\")\n",
        "r= input(\"d\")\n",
        "t= input(\"e\")\n",
        "print (\"  *  \")\n",
        "print (\" *** \")\n",
        "print (\"*****\")\n",
        "print (\"  *  \")\n",
        "print (\"  *  \")"
      ],
      "execution_count": 16,
      "outputs": [
        {
          "output_type": "stream",
          "text": [
            "aq\n",
            "bw\n",
            "ce\n",
            "dr\n",
            "et\n",
            "  *  \n",
            " *** \n",
            "*****\n",
            "  *  \n",
            "  *  \n"
          ],
          "name": "stdout"
        }
      ]
    }
  ]
}