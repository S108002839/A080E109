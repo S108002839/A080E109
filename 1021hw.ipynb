{
  "nbformat": 4,
  "nbformat_minor": 0,
  "metadata": {
    "colab": {
      "name": "1021hw.ipynb",
      "provenance": [],
      "include_colab_link": true
    },
    "kernelspec": {
      "name": "python3",
      "display_name": "Python 3"
    }
  },
  "cells": [
    {
      "cell_type": "markdown",
      "metadata": {
        "id": "view-in-github",
        "colab_type": "text"
      },
      "source": [
        "<a href=\"https://colab.research.google.com/github/S108002839/A080E109/blob/master/1021hw.ipynb\" target=\"_parent\"><img src=\"https://colab.research.google.com/assets/colab-badge.svg\" alt=\"Open In Colab\"/></a>"
      ]
    },
    {
      "cell_type": "code",
      "metadata": {
        "id": "IUzLRTKX2BIf",
        "colab_type": "code",
        "outputId": "0628f7fb-9ba8-47e3-e5ff-e40d7f26a97d",
        "colab": {
          "base_uri": "https://localhost:8080/",
          "height": 34
        }
      },
      "source": [
        "print(\"good evening\")"
      ],
      "execution_count": 0,
      "outputs": [
        {
          "output_type": "stream",
          "text": [
            "good evening\n"
          ],
          "name": "stdout"
        }
      ]
    },
    {
      "cell_type": "code",
      "metadata": {
        "id": "vmqY1K6Q5AyG",
        "colab_type": "code",
        "outputId": "b4d1c0a3-cf2e-488b-a5b9-ddf6e9b521ed",
        "colab": {
          "base_uri": "https://localhost:8080/",
          "height": 34
        }
      },
      "source": [
        "print(3*2*(17-2.5))"
      ],
      "execution_count": 0,
      "outputs": [
        {
          "output_type": "stream",
          "text": [
            "87.0\n"
          ],
          "name": "stdout"
        }
      ]
    },
    {
      "cell_type": "code",
      "metadata": {
        "id": "ShEjcS_w5H09",
        "colab_type": "code",
        "outputId": "25d83855-369e-41e8-a955-6e9e58bdeb56",
        "colab": {
          "base_uri": "https://localhost:8080/",
          "height": 34
        }
      },
      "source": [
        "print(\"3*2*(17-2.1)\")"
      ],
      "execution_count": 0,
      "outputs": [
        {
          "output_type": "stream",
          "text": [
            "3*2*(17-2.1)\n"
          ],
          "name": "stdout"
        }
      ]
    },
    {
      "cell_type": "code",
      "metadata": {
        "id": "ZxCxRRin5a3F",
        "colab_type": "code",
        "outputId": "d3904064-23b4-410b-8239-1b1460eeba6a",
        "colab": {
          "base_uri": "https://localhost:8080/",
          "height": 34
        }
      },
      "source": [
        "print(\"3*5*3*3*0.2\")"
      ],
      "execution_count": 0,
      "outputs": [
        {
          "output_type": "stream",
          "text": [
            "3*5*3*3*0.2\n"
          ],
          "name": "stdout"
        }
      ]
    },
    {
      "cell_type": "code",
      "metadata": {
        "id": "k9hnGH4W5i02",
        "colab_type": "code",
        "outputId": "82e763f4-1779-46e7-a9d6-ab1ddc648551",
        "colab": {
          "base_uri": "https://localhost:8080/",
          "height": 34
        }
      },
      "source": [
        "print(3*5*3*3*0.2)"
      ],
      "execution_count": 0,
      "outputs": [
        {
          "output_type": "stream",
          "text": [
            "27.0\n"
          ],
          "name": "stdout"
        }
      ]
    },
    {
      "cell_type": "code",
      "metadata": {
        "id": "HPeGmju_5ayt",
        "colab_type": "code",
        "outputId": "7c523f1c-3e8d-49f9-9676-737d12c703b3",
        "colab": {
          "base_uri": "https://localhost:8080/",
          "height": 34
        }
      },
      "source": [
        "print(\"sm\"+\"art\")"
      ],
      "execution_count": 78,
      "outputs": [
        {
          "output_type": "stream",
          "text": [
            "smart\n"
          ],
          "name": "stdout"
        }
      ]
    },
    {
      "cell_type": "code",
      "metadata": {
        "id": "Poqgp9sy6NQu",
        "colab_type": "code",
        "outputId": "57bce00c-d50f-4acf-df14-33104ac611b1",
        "colab": {
          "base_uri": "https://localhost:8080/",
          "height": 34
        }
      },
      "source": [
        "print(\"sm\"\"+\"\"art\")"
      ],
      "execution_count": 79,
      "outputs": [
        {
          "output_type": "stream",
          "text": [
            "sm+art\n"
          ],
          "name": "stdout"
        }
      ]
    },
    {
      "cell_type": "code",
      "metadata": {
        "id": "eTimuL_W6xOW",
        "colab_type": "code",
        "outputId": "b7614ba3-24a4-42c7-ad66-bef10b83b08d",
        "colab": {
          "base_uri": "https://localhost:8080/",
          "height": 34
        }
      },
      "source": [
        "word = \"gone\"\n",
        "print(word.replace(\"g\", \"b\"))"
      ],
      "execution_count": 0,
      "outputs": [
        {
          "output_type": "stream",
          "text": [
            "bone\n"
          ],
          "name": "stdout"
        }
      ]
    },
    {
      "cell_type": "code",
      "metadata": {
        "id": "BjpBz_v97LX-",
        "colab_type": "code",
        "outputId": "949fe516-d413-42e8-ea89-c4cc7646217d",
        "colab": {
          "base_uri": "https://localhost:8080/",
          "height": 34
        }
      },
      "source": [
        "word = \"gone\"\n",
        "print(word.replace(\"g\", \"fypup\"))"
      ],
      "execution_count": 0,
      "outputs": [
        {
          "output_type": "stream",
          "text": [
            "fypupone\n"
          ],
          "name": "stdout"
        }
      ]
    },
    {
      "cell_type": "code",
      "metadata": {
        "id": "_OTx55pn9WOw",
        "colab_type": "code",
        "outputId": "dd0aca48-b6cf-4a9e-99a4-499408df06da",
        "colab": {
          "base_uri": "https://localhost:8080/",
          "height": 34
        }
      },
      "source": [
        "word =\"Mydeargreatteacher,this is my work. My name is peter.\"\n",
        "print(word.replace(\"peter\",\"brian\"))"
      ],
      "execution_count": 80,
      "outputs": [
        {
          "output_type": "stream",
          "text": [
            "Mydeargreatteacher,this is my work. My name is brian.\n"
          ],
          "name": "stdout"
        }
      ]
    },
    {
      "cell_type": "code",
      "metadata": {
        "id": "A3PKj2vt_L6g",
        "colab_type": "code",
        "outputId": "1dd0d47a-a126-4686-d913-8dcc44e40ad1",
        "colab": {
          "base_uri": "https://localhost:8080/",
          "height": 34
        }
      },
      "source": [
        "word =\"Mydeargreatteacher,this is my work. My name is peter.\"\n",
        "print(word.replace(\"t\",\"c\",3)) "
      ],
      "execution_count": 81,
      "outputs": [
        {
          "output_type": "stream",
          "text": [
            "Mydeargreacceacher,chis is my work. My name is peter.\n"
          ],
          "name": "stdout"
        }
      ]
    },
    {
      "cell_type": "code",
      "metadata": {
        "id": "K5GBMOlzCi6h",
        "colab_type": "code",
        "outputId": "a4688917-bd59-48b3-bbe6-23069826b317",
        "colab": {
          "base_uri": "https://localhost:8080/",
          "height": 34
        }
      },
      "source": [
        "sum =0\n",
        "\n",
        "for x in range(1,101,2):\n",
        "  sum +=x\n",
        "\n",
        "print(sum)  "
      ],
      "execution_count": 0,
      "outputs": [
        {
          "output_type": "stream",
          "text": [
            "2500\n"
          ],
          "name": "stdout"
        }
      ]
    },
    {
      "cell_type": "code",
      "metadata": {
        "id": "89X71B7jEs8Q",
        "colab_type": "code",
        "outputId": "3a90422a-28a1-455c-b48f-30fe51a71ca2",
        "colab": {
          "base_uri": "https://localhost:8080/",
          "height": 34
        }
      },
      "source": [
        "sum =0\n",
        "\n",
        "for x in range(1,8,2):\n",
        "\n",
        "  sum +=x\n",
        "\n",
        "print(sum)  "
      ],
      "execution_count": 0,
      "outputs": [
        {
          "output_type": "stream",
          "text": [
            "16\n"
          ],
          "name": "stdout"
        }
      ]
    },
    {
      "cell_type": "code",
      "metadata": {
        "id": "5CrnYcRkFuER",
        "colab_type": "code",
        "outputId": "6d22f58f-298c-4245-e41a-ea45b14f736f",
        "colab": {
          "base_uri": "https://localhost:8080/",
          "height": 34
        }
      },
      "source": [
        "sum =0\n",
        "\n",
        "for x in range(1,8,2):\n",
        "# print(hello)\n",
        "  sum +=x\n",
        "\n",
        "print(sum)  "
      ],
      "execution_count": 0,
      "outputs": [
        {
          "output_type": "stream",
          "text": [
            "16\n"
          ],
          "name": "stdout"
        }
      ]
    },
    {
      "cell_type": "code",
      "metadata": {
        "id": "ASti76QiHU_g",
        "colab_type": "code",
        "outputId": "ea205180-1e63-49c4-8355-f7568865e7a6",
        "colab": {
          "base_uri": "https://localhost:8080/",
          "height": 34
        }
      },
      "source": [
        "total =1\n",
        "\n",
        "for x in range(1,101,2):\n",
        "\n",
        "  total *=x\n",
        "\n",
        "print(total)  "
      ],
      "execution_count": 0,
      "outputs": [
        {
          "output_type": "stream",
          "text": [
            "2725392139750729502980713245400918633290796330545803413734328823443106201171875\n"
          ],
          "name": "stdout"
        }
      ]
    },
    {
      "cell_type": "code",
      "metadata": {
        "id": "jRSjRah6LgDj",
        "colab_type": "code",
        "outputId": "00b3737f-7135-4278-e453-43d0142b9ae2",
        "colab": {
          "base_uri": "https://localhost:8080/",
          "height": 34
        }
      },
      "source": [
        "total =1\n",
        "\n",
        "for x in range(1,50,2):\n",
        "\n",
        "  total *=x\n",
        "\n",
        "print(total)  "
      ],
      "execution_count": 0,
      "outputs": [
        {
          "output_type": "stream",
          "text": [
            "58435841445947272053455474390625\n"
          ],
          "name": "stdout"
        }
      ]
    },
    {
      "cell_type": "code",
      "metadata": {
        "id": "oifIplWnLn2B",
        "colab_type": "code",
        "colab": {}
      },
      "source": [
        "index =1\n",
        "while index<2:\n",
        "   print(\"i will kill you when you touch my notebook.\")"
      ],
      "execution_count": 0,
      "outputs": []
    },
    {
      "cell_type": "code",
      "metadata": {
        "id": "Tg45INJOMuBi",
        "colab_type": "code",
        "colab": {
          "base_uri": "https://localhost:8080/",
          "height": 50
        },
        "outputId": "dee81f28-4d1a-43b9-b66f-b53fb6656806"
      },
      "source": [
        "names = ['Christopher', 'Susan'] \n",
        "index = 0 \n",
        "while index < len(names): \n",
        "    print(names[index]) \n",
        "    # Change the condition!!\n",
        "    index = index + 1"
      ],
      "execution_count": 74,
      "outputs": [
        {
          "output_type": "stream",
          "text": [
            "Christopher\n",
            "Susan\n"
          ],
          "name": "stdout"
        }
      ]
    },
    {
      "cell_type": "code",
      "metadata": {
        "id": "0NeiP9JYOgK0",
        "colab_type": "code",
        "colab": {
          "base_uri": "https://localhost:8080/",
          "height": 50
        },
        "outputId": "19242dde-5389-47d9-eaed-92fd6f41cbf4"
      },
      "source": [
        "names = ['0', '1'] \n",
        "index = 0 \n",
        "while index < len(names): \n",
        "    print(names[index]) \n",
        "    # Change the condition!!\n",
        "    index = index + 1"
      ],
      "execution_count": 76,
      "outputs": [
        {
          "output_type": "stream",
          "text": [
            "0\n",
            "1\n"
          ],
          "name": "stdout"
        }
      ]
    },
    {
      "cell_type": "code",
      "metadata": {
        "id": "uCGRD3tyRFod",
        "colab_type": "code",
        "colab": {
          "base_uri": "https://localhost:8080/",
          "height": 1000
        },
        "outputId": "715ed84c-9bdb-45d6-8c51-3466377209da"
      },
      "source": [
        "sum = 0\n",
        "x=1\n",
        "while x < 101:\n",
        "  sum+=x\n",
        "  x =x+1\n",
        "  # x +=1\n",
        "  print(sum)"
      ],
      "execution_count": 77,
      "outputs": [
        {
          "output_type": "stream",
          "text": [
            "1\n",
            "3\n",
            "6\n",
            "10\n",
            "15\n",
            "21\n",
            "28\n",
            "36\n",
            "45\n",
            "55\n",
            "66\n",
            "78\n",
            "91\n",
            "105\n",
            "120\n",
            "136\n",
            "153\n",
            "171\n",
            "190\n",
            "210\n",
            "231\n",
            "253\n",
            "276\n",
            "300\n",
            "325\n",
            "351\n",
            "378\n",
            "406\n",
            "435\n",
            "465\n",
            "496\n",
            "528\n",
            "561\n",
            "595\n",
            "630\n",
            "666\n",
            "703\n",
            "741\n",
            "780\n",
            "820\n",
            "861\n",
            "903\n",
            "946\n",
            "990\n",
            "1035\n",
            "1081\n",
            "1128\n",
            "1176\n",
            "1225\n",
            "1275\n",
            "1326\n",
            "1378\n",
            "1431\n",
            "1485\n",
            "1540\n",
            "1596\n",
            "1653\n",
            "1711\n",
            "1770\n",
            "1830\n",
            "1891\n",
            "1953\n",
            "2016\n",
            "2080\n",
            "2145\n",
            "2211\n",
            "2278\n",
            "2346\n",
            "2415\n",
            "2485\n",
            "2556\n",
            "2628\n",
            "2701\n",
            "2775\n",
            "2850\n",
            "2926\n",
            "3003\n",
            "3081\n",
            "3160\n",
            "3240\n",
            "3321\n",
            "3403\n",
            "3486\n",
            "3570\n",
            "3655\n",
            "3741\n",
            "3828\n",
            "3916\n",
            "4005\n",
            "4095\n",
            "4186\n",
            "4278\n",
            "4371\n",
            "4465\n",
            "4560\n",
            "4656\n",
            "4753\n",
            "4851\n",
            "4950\n",
            "5050\n"
          ],
          "name": "stdout"
        }
      ]
    }
  ]
}