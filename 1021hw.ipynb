{
  "nbformat": 4,
  "nbformat_minor": 0,
  "metadata": {
    "colab": {
      "name": "1021hw.ipynb",
      "provenance": [],
      "include_colab_link": true
    },
    "kernelspec": {
      "name": "python3",
      "display_name": "Python 3"
    }
  },
  "cells": [
    {
      "cell_type": "markdown",
      "metadata": {
        "id": "view-in-github",
        "colab_type": "text"
      },
      "source": [
        "<a href=\"https://colab.research.google.com/github/S108002839/A080E109/blob/master/1021hw.ipynb\" target=\"_parent\"><img src=\"https://colab.research.google.com/assets/colab-badge.svg\" alt=\"Open In Colab\"/></a>"
      ]
    },
    {
      "cell_type": "code",
      "metadata": {
        "id": "IUzLRTKX2BIf",
        "colab_type": "code",
        "outputId": "0628f7fb-9ba8-47e3-e5ff-e40d7f26a97d",
        "colab": {
          "base_uri": "https://localhost:8080/",
          "height": 34
        }
      },
      "source": [
        "print(\"good evening\")"
      ],
      "execution_count": 0,
      "outputs": [
        {
          "output_type": "stream",
          "text": [
            "good evening\n"
          ],
          "name": "stdout"
        }
      ]
    },
    {
      "cell_type": "code",
      "metadata": {
        "id": "vmqY1K6Q5AyG",
        "colab_type": "code",
        "outputId": "b4d1c0a3-cf2e-488b-a5b9-ddf6e9b521ed",
        "colab": {
          "base_uri": "https://localhost:8080/",
          "height": 34
        }
      },
      "source": [
        "print(3*2*(17-2.5))"
      ],
      "execution_count": 0,
      "outputs": [
        {
          "output_type": "stream",
          "text": [
            "87.0\n"
          ],
          "name": "stdout"
        }
      ]
    },
    {
      "cell_type": "code",
      "metadata": {
        "id": "ShEjcS_w5H09",
        "colab_type": "code",
        "outputId": "25d83855-369e-41e8-a955-6e9e58bdeb56",
        "colab": {
          "base_uri": "https://localhost:8080/",
          "height": 34
        }
      },
      "source": [
        "print(\"3*2*(17-2.1)\")"
      ],
      "execution_count": 0,
      "outputs": [
        {
          "output_type": "stream",
          "text": [
            "3*2*(17-2.1)\n"
          ],
          "name": "stdout"
        }
      ]
    },
    {
      "cell_type": "code",
      "metadata": {
        "id": "ZxCxRRin5a3F",
        "colab_type": "code",
        "outputId": "d3904064-23b4-410b-8239-1b1460eeba6a",
        "colab": {
          "base_uri": "https://localhost:8080/",
          "height": 34
        }
      },
      "source": [
        "print(\"3*5*3*3*0.2\")"
      ],
      "execution_count": 0,
      "outputs": [
        {
          "output_type": "stream",
          "text": [
            "3*5*3*3*0.2\n"
          ],
          "name": "stdout"
        }
      ]
    },
    {
      "cell_type": "code",
      "metadata": {
        "id": "k9hnGH4W5i02",
        "colab_type": "code",
        "outputId": "82e763f4-1779-46e7-a9d6-ab1ddc648551",
        "colab": {
          "base_uri": "https://localhost:8080/",
          "height": 34
        }
      },
      "source": [
        "print(3*5*3*3*0.2)"
      ],
      "execution_count": 0,
      "outputs": [
        {
          "output_type": "stream",
          "text": [
            "27.0\n"
          ],
          "name": "stdout"
        }
      ]
    },
    {
      "cell_type": "code",
      "metadata": {
        "id": "HPeGmju_5ayt",
        "colab_type": "code",
        "outputId": "0731637e-f173-4fdf-e1f4-373b2f945fd5",
        "colab": {
          "base_uri": "https://localhost:8080/",
          "height": 34
        }
      },
      "source": [
        "print(\"abc\"+\"def\")"
      ],
      "execution_count": 0,
      "outputs": [
        {
          "output_type": "stream",
          "text": [
            "abcdef\n"
          ],
          "name": "stdout"
        }
      ]
    },
    {
      "cell_type": "code",
      "metadata": {
        "id": "Poqgp9sy6NQu",
        "colab_type": "code",
        "outputId": "69fa2450-fb39-46b7-91e6-57ea363ac8ba",
        "colab": {
          "base_uri": "https://localhost:8080/",
          "height": 34
        }
      },
      "source": [
        "print(\"abc\"\"+\"\"def\")"
      ],
      "execution_count": 0,
      "outputs": [
        {
          "output_type": "stream",
          "text": [
            "abc+def\n"
          ],
          "name": "stdout"
        }
      ]
    },
    {
      "cell_type": "code",
      "metadata": {
        "id": "eTimuL_W6xOW",
        "colab_type": "code",
        "outputId": "b7614ba3-24a4-42c7-ad66-bef10b83b08d",
        "colab": {
          "base_uri": "https://localhost:8080/",
          "height": 34
        }
      },
      "source": [
        "word = \"gone\"\n",
        "print(word.replace(\"g\", \"b\"))"
      ],
      "execution_count": 0,
      "outputs": [
        {
          "output_type": "stream",
          "text": [
            "bone\n"
          ],
          "name": "stdout"
        }
      ]
    },
    {
      "cell_type": "code",
      "metadata": {
        "id": "BjpBz_v97LX-",
        "colab_type": "code",
        "outputId": "949fe516-d413-42e8-ea89-c4cc7646217d",
        "colab": {
          "base_uri": "https://localhost:8080/",
          "height": 34
        }
      },
      "source": [
        "word = \"gone\"\n",
        "print(word.replace(\"g\", \"fypup\"))"
      ],
      "execution_count": 0,
      "outputs": [
        {
          "output_type": "stream",
          "text": [
            "fypupone\n"
          ],
          "name": "stdout"
        }
      ]
    },
    {
      "cell_type": "code",
      "metadata": {
        "id": "_OTx55pn9WOw",
        "colab_type": "code",
        "outputId": "d5cc7fec-4535-4ef2-e7c9-2fd83a1dcdd9",
        "colab": {
          "base_uri": "https://localhost:8080/",
          "height": 34
        }
      },
      "source": [
        "word =\"Mydeargreatteacher,this is my word. My name is peter.\"\n",
        "print(word.replace(\"peter\",\"brian\"))"
      ],
      "execution_count": 0,
      "outputs": [
        {
          "output_type": "stream",
          "text": [
            "Mydeargreatteacher,this is my word. My name is brian.\n"
          ],
          "name": "stdout"
        }
      ]
    },
    {
      "cell_type": "code",
      "metadata": {
        "id": "A3PKj2vt_L6g",
        "colab_type": "code",
        "outputId": "e77ff227-c03b-4f01-aac3-7a05260a96f4",
        "colab": {
          "base_uri": "https://localhost:8080/",
          "height": 34
        }
      },
      "source": [
        "word =\"Mydeargreatteacher,this is my word. My name is peter.\"\n",
        "print(word.replace(\"t\",\"c\",3)) "
      ],
      "execution_count": 0,
      "outputs": [
        {
          "output_type": "stream",
          "text": [
            "Mydeargreacceacher,chis is my word. My name is peter.\n"
          ],
          "name": "stdout"
        }
      ]
    },
    {
      "cell_type": "code",
      "metadata": {
        "id": "K5GBMOlzCi6h",
        "colab_type": "code",
        "outputId": "a4688917-bd59-48b3-bbe6-23069826b317",
        "colab": {
          "base_uri": "https://localhost:8080/",
          "height": 34
        }
      },
      "source": [
        "sum =0\n",
        "\n",
        "for x in range(1,101,2):\n",
        "  sum +=x\n",
        "\n",
        "print(sum)  "
      ],
      "execution_count": 0,
      "outputs": [
        {
          "output_type": "stream",
          "text": [
            "2500\n"
          ],
          "name": "stdout"
        }
      ]
    },
    {
      "cell_type": "code",
      "metadata": {
        "id": "89X71B7jEs8Q",
        "colab_type": "code",
        "outputId": "3a90422a-28a1-455c-b48f-30fe51a71ca2",
        "colab": {
          "base_uri": "https://localhost:8080/",
          "height": 34
        }
      },
      "source": [
        "sum =0\n",
        "\n",
        "for x in range(1,8,2):\n",
        "\n",
        "  sum +=x\n",
        "\n",
        "print(sum)  "
      ],
      "execution_count": 0,
      "outputs": [
        {
          "output_type": "stream",
          "text": [
            "16\n"
          ],
          "name": "stdout"
        }
      ]
    },
    {
      "cell_type": "code",
      "metadata": {
        "id": "5CrnYcRkFuER",
        "colab_type": "code",
        "outputId": "6d22f58f-298c-4245-e41a-ea45b14f736f",
        "colab": {
          "base_uri": "https://localhost:8080/",
          "height": 34
        }
      },
      "source": [
        "sum =0\n",
        "\n",
        "for x in range(1,8,2):\n",
        "# print(hello)\n",
        "  sum +=x\n",
        "\n",
        "print(sum)  "
      ],
      "execution_count": 0,
      "outputs": [
        {
          "output_type": "stream",
          "text": [
            "16\n"
          ],
          "name": "stdout"
        }
      ]
    },
    {
      "cell_type": "code",
      "metadata": {
        "id": "ASti76QiHU_g",
        "colab_type": "code",
        "outputId": "ea205180-1e63-49c4-8355-f7568865e7a6",
        "colab": {
          "base_uri": "https://localhost:8080/",
          "height": 34
        }
      },
      "source": [
        "total =1\n",
        "\n",
        "for x in range(1,101,2):\n",
        "\n",
        "  total *=x\n",
        "\n",
        "print(total)  "
      ],
      "execution_count": 0,
      "outputs": [
        {
          "output_type": "stream",
          "text": [
            "2725392139750729502980713245400918633290796330545803413734328823443106201171875\n"
          ],
          "name": "stdout"
        }
      ]
    },
    {
      "cell_type": "code",
      "metadata": {
        "id": "jRSjRah6LgDj",
        "colab_type": "code",
        "outputId": "00b3737f-7135-4278-e453-43d0142b9ae2",
        "colab": {
          "base_uri": "https://localhost:8080/",
          "height": 34
        }
      },
      "source": [
        "total =1\n",
        "\n",
        "for x in range(1,50,2):\n",
        "\n",
        "  total *=x\n",
        "\n",
        "print(total)  "
      ],
      "execution_count": 0,
      "outputs": [
        {
          "output_type": "stream",
          "text": [
            "58435841445947272053455474390625\n"
          ],
          "name": "stdout"
        }
      ]
    },
    {
      "cell_type": "code",
      "metadata": {
        "id": "oifIplWnLn2B",
        "colab_type": "code",
        "colab": {}
      },
      "source": [
        "index =1\n",
        "while index<2:\n",
        "   print(\"i will kill you when you touch my notebook.\")"
      ],
      "execution_count": 0,
      "outputs": []
    },
    {
      "cell_type": "code",
      "metadata": {
        "id": "Tg45INJOMuBi",
        "colab_type": "code",
        "colab": {
          "base_uri": "https://localhost:8080/",
          "height": 51
        },
        "outputId": "dee81f28-4d1a-43b9-b66f-b53fb6656806"
      },
      "source": [
        "names = ['Christopher', 'Susan'] \n",
        "index = 0 \n",
        "while index < len(names): \n",
        "    print(names[index]) \n",
        "    # Change the condition!!\n",
        "    index = index + 1"
      ],
      "execution_count": 74,
      "outputs": [
        {
          "output_type": "stream",
          "text": [
            "Christopher\n",
            "Susan\n"
          ],
          "name": "stdout"
        }
      ]
    },
    {
      "cell_type": "code",
      "metadata": {
        "id": "0NeiP9JYOgK0",
        "colab_type": "code",
        "colab": {}
      },
      "source": [
        ""
      ],
      "execution_count": 0,
      "outputs": []
    }
  ]
}